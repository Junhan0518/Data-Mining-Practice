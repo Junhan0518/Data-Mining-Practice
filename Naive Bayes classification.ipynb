{
 "cells": [
  {
   "cell_type": "code",
   "execution_count": 90,
   "metadata": {},
   "outputs": [],
   "source": [
    "import pandas  as pd\n",
    "import numpy as np\n",
    "from sklearn.naive_bayes import GaussianNB\n",
    "#引入需要的套件"
   ]
  },
  {
   "cell_type": "code",
   "execution_count": 89,
   "metadata": {},
   "outputs": [
    {
     "name": "stdout",
     "output_type": "stream",
     "text": [
      "<class 'pandas.core.frame.DataFrame'>\n",
      "RangeIndex: 8124 entries, 0 to 8123\n",
      "Data columns (total 12 columns):\n",
      "type                      8124 non-null object\n",
      "cap_shape                 8124 non-null object\n",
      "cap_surface               8124 non-null object\n",
      "cap_color                 8124 non-null object\n",
      "odor                      8124 non-null object\n",
      "stalk_shape               8124 non-null object\n",
      "stalk_color_above_ring    8124 non-null object\n",
      "stalk_color_below_ring    8124 non-null object\n",
      "ring_number               8124 non-null object\n",
      "ring_type                 8124 non-null object\n",
      "population                8124 non-null object\n",
      "habitat                   8124 non-null object\n",
      "dtypes: object(12)\n",
      "memory usage: 761.8+ KB\n"
     ]
    },
    {
     "data": {
      "text/html": [
       "<div>\n",
       "<style scoped>\n",
       "    .dataframe tbody tr th:only-of-type {\n",
       "        vertical-align: middle;\n",
       "    }\n",
       "\n",
       "    .dataframe tbody tr th {\n",
       "        vertical-align: top;\n",
       "    }\n",
       "\n",
       "    .dataframe thead th {\n",
       "        text-align: right;\n",
       "    }\n",
       "</style>\n",
       "<table border=\"1\" class=\"dataframe\">\n",
       "  <thead>\n",
       "    <tr style=\"text-align: right;\">\n",
       "      <th></th>\n",
       "      <th>type</th>\n",
       "      <th>cap_shape</th>\n",
       "      <th>cap_surface</th>\n",
       "      <th>cap_color</th>\n",
       "      <th>odor</th>\n",
       "      <th>stalk_shape</th>\n",
       "      <th>stalk_color_above_ring</th>\n",
       "      <th>stalk_color_below_ring</th>\n",
       "      <th>ring_number</th>\n",
       "      <th>ring_type</th>\n",
       "      <th>population</th>\n",
       "      <th>habitat</th>\n",
       "    </tr>\n",
       "  </thead>\n",
       "  <tbody>\n",
       "    <tr>\n",
       "      <td>0</td>\n",
       "      <td>p</td>\n",
       "      <td>x</td>\n",
       "      <td>s</td>\n",
       "      <td>n</td>\n",
       "      <td>p</td>\n",
       "      <td>e</td>\n",
       "      <td>w</td>\n",
       "      <td>w</td>\n",
       "      <td>o</td>\n",
       "      <td>p</td>\n",
       "      <td>s</td>\n",
       "      <td>u</td>\n",
       "    </tr>\n",
       "    <tr>\n",
       "      <td>1</td>\n",
       "      <td>e</td>\n",
       "      <td>x</td>\n",
       "      <td>s</td>\n",
       "      <td>y</td>\n",
       "      <td>a</td>\n",
       "      <td>e</td>\n",
       "      <td>w</td>\n",
       "      <td>w</td>\n",
       "      <td>o</td>\n",
       "      <td>p</td>\n",
       "      <td>n</td>\n",
       "      <td>g</td>\n",
       "    </tr>\n",
       "    <tr>\n",
       "      <td>2</td>\n",
       "      <td>e</td>\n",
       "      <td>b</td>\n",
       "      <td>s</td>\n",
       "      <td>w</td>\n",
       "      <td>l</td>\n",
       "      <td>e</td>\n",
       "      <td>w</td>\n",
       "      <td>w</td>\n",
       "      <td>o</td>\n",
       "      <td>p</td>\n",
       "      <td>n</td>\n",
       "      <td>m</td>\n",
       "    </tr>\n",
       "    <tr>\n",
       "      <td>3</td>\n",
       "      <td>p</td>\n",
       "      <td>x</td>\n",
       "      <td>y</td>\n",
       "      <td>w</td>\n",
       "      <td>p</td>\n",
       "      <td>e</td>\n",
       "      <td>w</td>\n",
       "      <td>w</td>\n",
       "      <td>o</td>\n",
       "      <td>p</td>\n",
       "      <td>s</td>\n",
       "      <td>u</td>\n",
       "    </tr>\n",
       "    <tr>\n",
       "      <td>4</td>\n",
       "      <td>e</td>\n",
       "      <td>x</td>\n",
       "      <td>s</td>\n",
       "      <td>g</td>\n",
       "      <td>n</td>\n",
       "      <td>t</td>\n",
       "      <td>w</td>\n",
       "      <td>w</td>\n",
       "      <td>o</td>\n",
       "      <td>e</td>\n",
       "      <td>a</td>\n",
       "      <td>g</td>\n",
       "    </tr>\n",
       "    <tr>\n",
       "      <td>...</td>\n",
       "      <td>...</td>\n",
       "      <td>...</td>\n",
       "      <td>...</td>\n",
       "      <td>...</td>\n",
       "      <td>...</td>\n",
       "      <td>...</td>\n",
       "      <td>...</td>\n",
       "      <td>...</td>\n",
       "      <td>...</td>\n",
       "      <td>...</td>\n",
       "      <td>...</td>\n",
       "      <td>...</td>\n",
       "    </tr>\n",
       "    <tr>\n",
       "      <td>8119</td>\n",
       "      <td>e</td>\n",
       "      <td>k</td>\n",
       "      <td>s</td>\n",
       "      <td>n</td>\n",
       "      <td>n</td>\n",
       "      <td>e</td>\n",
       "      <td>o</td>\n",
       "      <td>o</td>\n",
       "      <td>o</td>\n",
       "      <td>p</td>\n",
       "      <td>c</td>\n",
       "      <td>l</td>\n",
       "    </tr>\n",
       "    <tr>\n",
       "      <td>8120</td>\n",
       "      <td>e</td>\n",
       "      <td>x</td>\n",
       "      <td>s</td>\n",
       "      <td>n</td>\n",
       "      <td>n</td>\n",
       "      <td>e</td>\n",
       "      <td>o</td>\n",
       "      <td>o</td>\n",
       "      <td>o</td>\n",
       "      <td>p</td>\n",
       "      <td>v</td>\n",
       "      <td>l</td>\n",
       "    </tr>\n",
       "    <tr>\n",
       "      <td>8121</td>\n",
       "      <td>e</td>\n",
       "      <td>f</td>\n",
       "      <td>s</td>\n",
       "      <td>n</td>\n",
       "      <td>n</td>\n",
       "      <td>e</td>\n",
       "      <td>o</td>\n",
       "      <td>o</td>\n",
       "      <td>o</td>\n",
       "      <td>p</td>\n",
       "      <td>c</td>\n",
       "      <td>l</td>\n",
       "    </tr>\n",
       "    <tr>\n",
       "      <td>8122</td>\n",
       "      <td>p</td>\n",
       "      <td>k</td>\n",
       "      <td>y</td>\n",
       "      <td>n</td>\n",
       "      <td>y</td>\n",
       "      <td>t</td>\n",
       "      <td>w</td>\n",
       "      <td>w</td>\n",
       "      <td>o</td>\n",
       "      <td>e</td>\n",
       "      <td>v</td>\n",
       "      <td>l</td>\n",
       "    </tr>\n",
       "    <tr>\n",
       "      <td>8123</td>\n",
       "      <td>e</td>\n",
       "      <td>x</td>\n",
       "      <td>s</td>\n",
       "      <td>n</td>\n",
       "      <td>n</td>\n",
       "      <td>e</td>\n",
       "      <td>o</td>\n",
       "      <td>o</td>\n",
       "      <td>o</td>\n",
       "      <td>p</td>\n",
       "      <td>c</td>\n",
       "      <td>l</td>\n",
       "    </tr>\n",
       "  </tbody>\n",
       "</table>\n",
       "<p>8124 rows × 12 columns</p>\n",
       "</div>"
      ],
      "text/plain": [
       "     type cap_shape cap_surface cap_color odor stalk_shape  \\\n",
       "0       p         x           s         n    p           e   \n",
       "1       e         x           s         y    a           e   \n",
       "2       e         b           s         w    l           e   \n",
       "3       p         x           y         w    p           e   \n",
       "4       e         x           s         g    n           t   \n",
       "...   ...       ...         ...       ...  ...         ...   \n",
       "8119    e         k           s         n    n           e   \n",
       "8120    e         x           s         n    n           e   \n",
       "8121    e         f           s         n    n           e   \n",
       "8122    p         k           y         n    y           t   \n",
       "8123    e         x           s         n    n           e   \n",
       "\n",
       "     stalk_color_above_ring stalk_color_below_ring ring_number ring_type  \\\n",
       "0                         w                      w           o         p   \n",
       "1                         w                      w           o         p   \n",
       "2                         w                      w           o         p   \n",
       "3                         w                      w           o         p   \n",
       "4                         w                      w           o         e   \n",
       "...                     ...                    ...         ...       ...   \n",
       "8119                      o                      o           o         p   \n",
       "8120                      o                      o           o         p   \n",
       "8121                      o                      o           o         p   \n",
       "8122                      w                      w           o         e   \n",
       "8123                      o                      o           o         p   \n",
       "\n",
       "     population habitat  \n",
       "0             s       u  \n",
       "1             n       g  \n",
       "2             n       m  \n",
       "3             s       u  \n",
       "4             a       g  \n",
       "...         ...     ...  \n",
       "8119          c       l  \n",
       "8120          v       l  \n",
       "8121          c       l  \n",
       "8122          v       l  \n",
       "8123          c       l  \n",
       "\n",
       "[8124 rows x 12 columns]"
      ]
     },
     "execution_count": 89,
     "metadata": {},
     "output_type": "execute_result"
    }
   ],
   "source": [
    "df = pd.read_csv('mushrooms.csv')\n",
    "df.info()\n",
    "df\n",
    "#讀入資料並查看資料的屬性特性"
   ]
  },
  {
   "cell_type": "code",
   "execution_count": 80,
   "metadata": {},
   "outputs": [
    {
     "data": {
      "text/plain": [
       "type                      False\n",
       "cap_shape                 False\n",
       "cap_surface               False\n",
       "cap_color                 False\n",
       "odor                      False\n",
       "stalk_shape               False\n",
       "stalk_color_above_ring    False\n",
       "stalk_color_below_ring    False\n",
       "ring_number               False\n",
       "ring_type                 False\n",
       "population                False\n",
       "habitat                   False\n",
       "dtype: bool"
      ]
     },
     "execution_count": 80,
     "metadata": {},
     "output_type": "execute_result"
    }
   ],
   "source": [
    "df.isnull().any()"
   ]
  },
  {
   "cell_type": "code",
   "execution_count": 92,
   "metadata": {},
   "outputs": [
    {
     "data": {
      "text/plain": [
       "count     8124\n",
       "unique       9\n",
       "top          w\n",
       "freq      4464\n",
       "Name: stalk_color_above_ring, dtype: object"
      ]
     },
     "execution_count": 92,
     "metadata": {},
     "output_type": "execute_result"
    }
   ],
   "source": [
    "df1 = df[\"stalk_color_above_ring\"]\n",
    "df1.describe()"
   ]
  },
  {
   "cell_type": "code",
   "execution_count": 82,
   "metadata": {},
   "outputs": [],
   "source": [
    "y = df.loc[:,['type']]\n",
    "X = df.loc[:,[\"cap_shape\",\"cap_surface\",\"cap_color\",\"odor\",\"stalk_shape\",\n",
    "            \"stalk_color_above_ring\",\"stalk_color_below_ring\",\"ring_number\",\n",
    "            \"ring_type\",\"population\",\"habitat\"]]"
   ]
  },
  {
   "cell_type": "code",
   "execution_count": 93,
   "metadata": {},
   "outputs": [
    {
     "data": {
      "text/plain": [
       "array([[5, 2, 4, ..., 4, 3, 5],\n",
       "       [5, 2, 9, ..., 4, 2, 1],\n",
       "       [0, 2, 8, ..., 4, 2, 3],\n",
       "       ...,\n",
       "       [2, 2, 4, ..., 4, 1, 2],\n",
       "       [3, 3, 4, ..., 0, 4, 2],\n",
       "       [5, 2, 4, ..., 4, 1, 2]])"
      ]
     },
     "execution_count": 93,
     "metadata": {},
     "output_type": "execute_result"
    }
   ],
   "source": [
    "from sklearn import preprocessing\n",
    "le = preprocessing.LabelEncoder()\n",
    "X_cap_shape_encoded = le.fit_transform(X.cap_shape)\n",
    "X_cap_surface_encoded = le.fit_transform(X.cap_surface)\n",
    "X_cap_color_encoded = le.fit_transform(X.cap_color)\n",
    "X_odor_encoded = le.fit_transform(X.odor)\n",
    "X_stalk_shape_encoded = le.fit_transform(X.stalk_shape)\n",
    "X_stalk_color_above_ring_encoded = le.fit_transform(X.stalk_color_above_ring)\n",
    "X_stalk_color_below_ring_encoded = le.fit_transform(X.stalk_color_below_ring)\n",
    "X_ring_number_encoded = le.fit_transform(X.ring_number)\n",
    "X_ring_type_encoded = le.fit_transform(X.ring_type)\n",
    "X_population_encoded = le.fit_transform(X.population)\n",
    "X_habitat_encoded = le.fit_transform(X.habitat)\n",
    "\n",
    "y_type_label = le.fit_transform(y.type)\n",
    "\n",
    "feature = list(zip(X_cap_shape_encoded,X_cap_surface_encoded,\n",
    "                  X_cap_color_encoded,X_odor_encoded,\n",
    "                  X_stalk_shape_encoded,X_stalk_color_above_ring_encoded,\n",
    "                  X_stalk_color_below_ring_encoded,X_ring_number_encoded,\n",
    "                  X_ring_type_encoded,X_population_encoded,X_habitat_encoded))\n",
    "\n",
    "features = np.array(feature) #平整化\n"
   ]
  },
  {
   "cell_type": "code",
   "execution_count": 95,
   "metadata": {},
   "outputs": [
    {
     "data": {
      "text/plain": [
       "GaussianNB(priors=None, var_smoothing=1e-09)"
      ]
     },
     "execution_count": 95,
     "metadata": {},
     "output_type": "execute_result"
    }
   ],
   "source": [
    "model = GaussianNB()\n",
    "model.fit(features,y_type_label)"
   ]
  },
  {
   "cell_type": "code",
   "execution_count": 85,
   "metadata": {},
   "outputs": [
    {
     "name": "stdout",
     "output_type": "stream",
     "text": [
      "              precision    recall  f1-score   support\n",
      "\n",
      "           0       0.87      0.78      0.82      4208\n",
      "           1       0.79      0.87      0.83      3916\n",
      "\n",
      "    accuracy                           0.83      8124\n",
      "   macro avg       0.83      0.83      0.83      8124\n",
      "weighted avg       0.83      0.83      0.83      8124\n",
      "\n"
     ]
    }
   ],
   "source": [
    "expected = y_type_label\n",
    "predicted= model.predict(features)\n",
    "from sklearn import metrics\n",
    "print(metrics.classification_report(expected,predicted))"
   ]
  },
  {
   "cell_type": "code",
   "execution_count": 86,
   "metadata": {},
   "outputs": [
    {
     "name": "stdout",
     "output_type": "stream",
     "text": [
      "[[3296  912]\n",
      " [ 493 3423]]\n"
     ]
    }
   ],
   "source": [
    "print(metrics.confusion_matrix(expected,predicted))\n"
   ]
  },
  {
   "cell_type": "code",
   "execution_count": null,
   "metadata": {},
   "outputs": [],
   "source": []
  }
 ],
 "metadata": {
  "kernelspec": {
   "display_name": "Python 3",
   "language": "python",
   "name": "python3"
  },
  "language_info": {
   "codemirror_mode": {
    "name": "ipython",
    "version": 3
   },
   "file_extension": ".py",
   "mimetype": "text/x-python",
   "name": "python",
   "nbconvert_exporter": "python",
   "pygments_lexer": "ipython3",
   "version": "3.7.4"
  }
 },
 "nbformat": 4,
 "nbformat_minor": 2
}
