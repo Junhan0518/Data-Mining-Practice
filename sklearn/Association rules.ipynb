{
 "cells": [
  {
   "cell_type": "code",
   "execution_count": 42,
   "metadata": {},
   "outputs": [],
   "source": [
    "import pandas as pd\n",
    "data = pd.read_csv('adult.csv')"
   ]
  },
  {
   "cell_type": "code",
   "execution_count": 43,
   "metadata": {},
   "outputs": [],
   "source": [
    "data['gender'] = data['gender'].replace(0,'Male')\n",
    "data['gender'] = data['gender'].replace(1,'Female')\n",
    "data['gender']\n",
    "data.to_csv('adult.csv')"
   ]
  },
  {
   "cell_type": "code",
   "execution_count": 36,
   "metadata": {},
   "outputs": [],
   "source": [
    "data = data.astype(str)\n",
    "data = data.values.tolist()"
   ]
  },
  {
   "cell_type": "code",
   "execution_count": 37,
   "metadata": {},
   "outputs": [
    {
     "name": "stdout",
     "output_type": "stream",
     "text": [
      "Requirement already satisfied: apyori in /opt/anaconda3/lib/python3.7/site-packages (1.1.2)\r\n"
     ]
    }
   ],
   "source": [
    "!pip install apyori\n",
    "from apyori import apriori"
   ]
  },
  {
   "cell_type": "code",
   "execution_count": 38,
   "metadata": {},
   "outputs": [
    {
     "data": {
      "text/plain": [
       "[RelationRecord(items=frozenset({'20-30', '<=50K'}), support=0.22837964069254665, ordered_statistics=[OrderedStatistic(items_base=frozenset({'20-30'}), items_add=frozenset({'<=50K'}), confidence=0.9152084965613302, lift=1.2172370842277807)]),\n",
       " RelationRecord(items=frozenset({'White', '40-60'}), support=0.2469098255599244, ordered_statistics=[OrderedStatistic(items_base=frozenset({'40-60'}), items_add=frozenset({'White'}), confidence=0.9163911956784649, lift=1.0694715523442546)]),\n",
       " RelationRecord(items=frozenset({'Never-married', '<=50K'}), support=0.3074533486846393, ordered_statistics=[OrderedStatistic(items_base=frozenset({'Never-married'}), items_add=frozenset({'<=50K'}), confidence=0.9514621848739496, lift=1.2654548772443017)]),\n",
       " RelationRecord(items=frozenset({'White', '>50K'}), support=0.22520800295440227, ordered_statistics=[OrderedStatistic(items_base=frozenset({'>50K'}), items_add=frozenset({'White'}), confidence=0.90763438977412, lift=1.0592519486987138)]),\n",
       " RelationRecord(items=frozenset({'Female', '<=50K', '20-40'}), support=0.20383203354115526, ordered_statistics=[OrderedStatistic(items_base=frozenset({'Female', '20-40'}), items_add=frozenset({'<=50K'}), confidence=0.9016046891515327, lift=1.1991438749447432)]),\n",
       " RelationRecord(items=frozenset({'Never-married', '<=50K', '20-40'}), support=0.20350618034888016, ordered_statistics=[OrderedStatistic(items_base=frozenset({'Never-married', '20-40'}), items_add=frozenset({'<=50K'}), confidence=0.9688695832040543, lift=1.2886069031126588)]),\n",
       " RelationRecord(items=frozenset({'White', '40-60', 'Male'}), support=0.20394065127191363, ordered_statistics=[OrderedStatistic(items_base=frozenset({'40-60', 'Male'}), items_add=frozenset({'White'}), confidence=0.9274846868207864, lift=1.0824181773760588)]),\n",
       " RelationRecord(items=frozenset({'Female', '<=50K', 'Private'}), support=0.22818412877718158, ordered_statistics=[OrderedStatistic(items_base=frozenset({'Female', 'Private'}), items_add=frozenset({'<=50K'}), confidence=0.9055953099405122, lift=1.2044514432547917)]),\n",
       " RelationRecord(items=frozenset({'Never-married', '<=50K', 'Private'}), support=0.2553602850129255, ordered_statistics=[OrderedStatistic(items_base=frozenset({'Never-married', 'Private'}), items_add=frozenset({'<=50K'}), confidence=0.9601404884423753, lift=1.2769971137634817)]),\n",
       " RelationRecord(items=frozenset({'Never-married', '<=50K', 'White'}), support=0.25177589989789934, ordered_statistics=[OrderedStatistic(items_base=frozenset({'Never-married', 'White'}), items_add=frozenset({'<=50K'}), confidence=0.9478246647039581, lift=1.2606169365322384)]),\n",
       " RelationRecord(items=frozenset({'White', 'Male', 'Married-civ-spouse'}), support=0.376794908000782, ordered_statistics=[OrderedStatistic(items_base=frozenset({'Male', 'Married-civ-spouse'}), items_add=frozenset({'White'}), confidence=0.9041859980190793, lift=1.0552275136094786), OrderedStatistic(items_base=frozenset({'White', 'Married-civ-spouse'}), items_add=frozenset({'Male'}), confidence=0.9020229861147225, lift=1.334538282439385)]),\n",
       " RelationRecord(items=frozenset({'White', '<=50K', 'Male', 'Married-civ-spouse'}), support=0.20372341581039688, ordered_statistics=[OrderedStatistic(items_base=frozenset({'White', '<=50K', 'Married-civ-spouse'}), items_add=frozenset({'Male'}), confidence=0.9067001836991202, lift=1.341458171762602)]),\n",
       " RelationRecord(items=frozenset({'Never-married', '<=50K', 'White', 'Private'}), support=0.2107618447635392, ordered_statistics=[OrderedStatistic(items_base=frozenset({'Never-married', 'White', 'Private'}), items_add=frozenset({'<=50K'}), confidence=0.9573712255772647, lift=1.2733139645487916)]),\n",
       " RelationRecord(items=frozenset({'White', 'Male', 'Married-civ-spouse', 'Private'}), support=0.2525362240132079, ordered_statistics=[OrderedStatistic(items_base=frozenset({'Male', 'Married-civ-spouse', 'Private'}), items_add=frozenset({'White'}), confidence=0.902702282963193, lift=1.053495948474918)])]"
      ]
     },
     "execution_count": 38,
     "metadata": {},
     "output_type": "execute_result"
    }
   ],
   "source": [
    "rules = list(apriori(data, min_support = 0.2, min_confidence = 0.9))\n",
    "rules"
   ]
  },
  {
   "cell_type": "code",
   "execution_count": 39,
   "metadata": {},
   "outputs": [],
   "source": [
    "result = pd.DataFrame()\n",
    "for item in rules:\n",
    "    series = pd.Series({'Rule':item[0],\"Support\":item[1],\"Confidence\":item[2][0][2]})\n",
    "    result = result.append(series, ignore_index = True)"
   ]
  },
  {
   "cell_type": "code",
   "execution_count": 40,
   "metadata": {},
   "outputs": [
    {
     "data": {
      "text/html": [
       "<div>\n",
       "<style scoped>\n",
       "    .dataframe tbody tr th:only-of-type {\n",
       "        vertical-align: middle;\n",
       "    }\n",
       "\n",
       "    .dataframe tbody tr th {\n",
       "        vertical-align: top;\n",
       "    }\n",
       "\n",
       "    .dataframe thead th {\n",
       "        text-align: right;\n",
       "    }\n",
       "</style>\n",
       "<table border=\"1\" class=\"dataframe\">\n",
       "  <thead>\n",
       "    <tr style=\"text-align: right;\">\n",
       "      <th></th>\n",
       "      <th>Confidence</th>\n",
       "      <th>Rule</th>\n",
       "      <th>Support</th>\n",
       "    </tr>\n",
       "  </thead>\n",
       "  <tbody>\n",
       "    <tr>\n",
       "      <td>5</td>\n",
       "      <td>0.968870</td>\n",
       "      <td>(Never-married, &lt;=50K, 20-40)</td>\n",
       "      <td>0.203506</td>\n",
       "    </tr>\n",
       "    <tr>\n",
       "      <td>8</td>\n",
       "      <td>0.960140</td>\n",
       "      <td>(Never-married, &lt;=50K, Private)</td>\n",
       "      <td>0.255360</td>\n",
       "    </tr>\n",
       "    <tr>\n",
       "      <td>12</td>\n",
       "      <td>0.957371</td>\n",
       "      <td>(Never-married, &lt;=50K, White, Private)</td>\n",
       "      <td>0.210762</td>\n",
       "    </tr>\n",
       "    <tr>\n",
       "      <td>2</td>\n",
       "      <td>0.951462</td>\n",
       "      <td>(Never-married, &lt;=50K)</td>\n",
       "      <td>0.307453</td>\n",
       "    </tr>\n",
       "    <tr>\n",
       "      <td>9</td>\n",
       "      <td>0.947825</td>\n",
       "      <td>(Never-married, &lt;=50K, White)</td>\n",
       "      <td>0.251776</td>\n",
       "    </tr>\n",
       "    <tr>\n",
       "      <td>6</td>\n",
       "      <td>0.927485</td>\n",
       "      <td>(White, 40-60, Male)</td>\n",
       "      <td>0.203941</td>\n",
       "    </tr>\n",
       "    <tr>\n",
       "      <td>1</td>\n",
       "      <td>0.916391</td>\n",
       "      <td>(White, 40-60)</td>\n",
       "      <td>0.246910</td>\n",
       "    </tr>\n",
       "    <tr>\n",
       "      <td>0</td>\n",
       "      <td>0.915208</td>\n",
       "      <td>(20-30, &lt;=50K)</td>\n",
       "      <td>0.228380</td>\n",
       "    </tr>\n",
       "    <tr>\n",
       "      <td>3</td>\n",
       "      <td>0.907634</td>\n",
       "      <td>(White, &gt;50K)</td>\n",
       "      <td>0.225208</td>\n",
       "    </tr>\n",
       "    <tr>\n",
       "      <td>11</td>\n",
       "      <td>0.906700</td>\n",
       "      <td>(White, &lt;=50K, Male, Married-civ-spouse)</td>\n",
       "      <td>0.203723</td>\n",
       "    </tr>\n",
       "    <tr>\n",
       "      <td>7</td>\n",
       "      <td>0.905595</td>\n",
       "      <td>(Female, &lt;=50K, Private)</td>\n",
       "      <td>0.228184</td>\n",
       "    </tr>\n",
       "    <tr>\n",
       "      <td>10</td>\n",
       "      <td>0.904186</td>\n",
       "      <td>(White, Male, Married-civ-spouse)</td>\n",
       "      <td>0.376795</td>\n",
       "    </tr>\n",
       "    <tr>\n",
       "      <td>13</td>\n",
       "      <td>0.902702</td>\n",
       "      <td>(White, Male, Married-civ-spouse, Private)</td>\n",
       "      <td>0.252536</td>\n",
       "    </tr>\n",
       "    <tr>\n",
       "      <td>4</td>\n",
       "      <td>0.901605</td>\n",
       "      <td>(Female, &lt;=50K, 20-40)</td>\n",
       "      <td>0.203832</td>\n",
       "    </tr>\n",
       "  </tbody>\n",
       "</table>\n",
       "</div>"
      ],
      "text/plain": [
       "    Confidence                                        Rule   Support\n",
       "5     0.968870               (Never-married, <=50K, 20-40)  0.203506\n",
       "8     0.960140             (Never-married, <=50K, Private)  0.255360\n",
       "12    0.957371      (Never-married, <=50K, White, Private)  0.210762\n",
       "2     0.951462                      (Never-married, <=50K)  0.307453\n",
       "9     0.947825               (Never-married, <=50K, White)  0.251776\n",
       "6     0.927485                        (White, 40-60, Male)  0.203941\n",
       "1     0.916391                              (White, 40-60)  0.246910\n",
       "0     0.915208                              (20-30, <=50K)  0.228380\n",
       "3     0.907634                               (White, >50K)  0.225208\n",
       "11    0.906700    (White, <=50K, Male, Married-civ-spouse)  0.203723\n",
       "7     0.905595                    (Female, <=50K, Private)  0.228184\n",
       "10    0.904186           (White, Male, Married-civ-spouse)  0.376795\n",
       "13    0.902702  (White, Male, Married-civ-spouse, Private)  0.252536\n",
       "4     0.901605                      (Female, <=50K, 20-40)  0.203832"
      ]
     },
     "execution_count": 40,
     "metadata": {},
     "output_type": "execute_result"
    }
   ],
   "source": [
    "result = result.sort_values(by = ['Confidence'], ascending = False)\n",
    "result"
   ]
  },
  {
   "cell_type": "code",
   "execution_count": 41,
   "metadata": {},
   "outputs": [
    {
     "data": {
      "text/html": [
       "<div>\n",
       "<style scoped>\n",
       "    .dataframe tbody tr th:only-of-type {\n",
       "        vertical-align: middle;\n",
       "    }\n",
       "\n",
       "    .dataframe tbody tr th {\n",
       "        vertical-align: top;\n",
       "    }\n",
       "\n",
       "    .dataframe thead th {\n",
       "        text-align: right;\n",
       "    }\n",
       "</style>\n",
       "<table border=\"1\" class=\"dataframe\">\n",
       "  <thead>\n",
       "    <tr style=\"text-align: right;\">\n",
       "      <th></th>\n",
       "      <th>Confidence</th>\n",
       "      <th>Rule</th>\n",
       "      <th>Support</th>\n",
       "    </tr>\n",
       "  </thead>\n",
       "  <tbody>\n",
       "    <tr>\n",
       "      <td>5</td>\n",
       "      <td>0.968870</td>\n",
       "      <td>(Never-married, &lt;=50K, 20-40)</td>\n",
       "      <td>0.203506</td>\n",
       "    </tr>\n",
       "    <tr>\n",
       "      <td>8</td>\n",
       "      <td>0.960140</td>\n",
       "      <td>(Never-married, &lt;=50K, Private)</td>\n",
       "      <td>0.255360</td>\n",
       "    </tr>\n",
       "    <tr>\n",
       "      <td>12</td>\n",
       "      <td>0.957371</td>\n",
       "      <td>(Never-married, &lt;=50K, White, Private)</td>\n",
       "      <td>0.210762</td>\n",
       "    </tr>\n",
       "    <tr>\n",
       "      <td>2</td>\n",
       "      <td>0.951462</td>\n",
       "      <td>(Never-married, &lt;=50K)</td>\n",
       "      <td>0.307453</td>\n",
       "    </tr>\n",
       "    <tr>\n",
       "      <td>9</td>\n",
       "      <td>0.947825</td>\n",
       "      <td>(Never-married, &lt;=50K, White)</td>\n",
       "      <td>0.251776</td>\n",
       "    </tr>\n",
       "  </tbody>\n",
       "</table>\n",
       "</div>"
      ],
      "text/plain": [
       "    Confidence                                    Rule   Support\n",
       "5     0.968870           (Never-married, <=50K, 20-40)  0.203506\n",
       "8     0.960140         (Never-married, <=50K, Private)  0.255360\n",
       "12    0.957371  (Never-married, <=50K, White, Private)  0.210762\n",
       "2     0.951462                  (Never-married, <=50K)  0.307453\n",
       "9     0.947825           (Never-married, <=50K, White)  0.251776"
      ]
     },
     "execution_count": 41,
     "metadata": {},
     "output_type": "execute_result"
    }
   ],
   "source": [
    "result[:5]"
   ]
  }
 ],
 "metadata": {
  "kernelspec": {
   "display_name": "Python 3",
   "language": "python",
   "name": "python3"
  },
  "language_info": {
   "codemirror_mode": {
    "name": "ipython",
    "version": 3
   },
   "file_extension": ".py",
   "mimetype": "text/x-python",
   "name": "python",
   "nbconvert_exporter": "python",
   "pygments_lexer": "ipython3",
   "version": "3.7.4"
  }
 },
 "nbformat": 4,
 "nbformat_minor": 2
}
