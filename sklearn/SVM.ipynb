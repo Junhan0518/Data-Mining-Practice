{
 "cells": [
  {
   "cell_type": "code",
   "execution_count": 41,
   "metadata": {},
   "outputs": [],
   "source": [
    "import pandas as pd \n",
    "import numpy as np\n",
    "from sklearn.model_selection import train_test_split\n",
    "from sklearn.preprocessing import StandardScaler \n",
    "from sklearn.svm import SVC\n",
    "#引入套件"
   ]
  },
  {
   "cell_type": "code",
   "execution_count": 42,
   "metadata": {},
   "outputs": [
    {
     "name": "stdout",
     "output_type": "stream",
     "text": [
      "<class 'pandas.core.frame.DataFrame'>\n",
      "RangeIndex: 303 entries, 0 to 302\n",
      "Data columns (total 14 columns):\n",
      "age         303 non-null int64\n",
      "sex         303 non-null int64\n",
      "cp          302 non-null float64\n",
      "trestbps    303 non-null int64\n",
      "chol        301 non-null float64\n",
      "fbs         303 non-null int64\n",
      "restecg     300 non-null float64\n",
      "thalach     303 non-null int64\n",
      "exang       302 non-null float64\n",
      "oldpeak     301 non-null float64\n",
      "slope       302 non-null float64\n",
      "ca          303 non-null int64\n",
      "thal        303 non-null int64\n",
      "target      303 non-null int64\n",
      "dtypes: float64(6), int64(8)\n",
      "memory usage: 33.3 KB\n"
     ]
    }
   ],
   "source": [
    "df = pd.read_csv('heart.csv')\n",
    "df.info()\n",
    "#讀入資料並查看資料"
   ]
  },
  {
   "cell_type": "code",
   "execution_count": 43,
   "metadata": {},
   "outputs": [
    {
     "data": {
      "text/plain": [
       "age         False\n",
       "sex         False\n",
       "cp           True\n",
       "trestbps    False\n",
       "chol         True\n",
       "fbs         False\n",
       "restecg      True\n",
       "thalach     False\n",
       "exang        True\n",
       "oldpeak      True\n",
       "slope        True\n",
       "ca          False\n",
       "thal        False\n",
       "target      False\n",
       "dtype: bool"
      ]
     },
     "execution_count": 43,
     "metadata": {},
     "output_type": "execute_result"
    }
   ],
   "source": [
    "df.isnull().any()\n",
    "#檢查資料是否有空值"
   ]
  },
  {
   "cell_type": "code",
   "execution_count": 44,
   "metadata": {},
   "outputs": [
    {
     "data": {
      "text/plain": [
       "age         0\n",
       "sex         0\n",
       "cp          1\n",
       "trestbps    0\n",
       "chol        2\n",
       "fbs         0\n",
       "restecg     3\n",
       "thalach     0\n",
       "exang       1\n",
       "oldpeak     2\n",
       "slope       1\n",
       "ca          0\n",
       "thal        0\n",
       "target      0\n",
       "dtype: int64"
      ]
     },
     "execution_count": 44,
     "metadata": {},
     "output_type": "execute_result"
    }
   ],
   "source": [
    "df.isnull().sum()\n",
    "#檢查空值數量"
   ]
  },
  {
   "cell_type": "code",
   "execution_count": 45,
   "metadata": {},
   "outputs": [
    {
     "data": {
      "text/plain": [
       "age         False\n",
       "sex         False\n",
       "cp          False\n",
       "trestbps    False\n",
       "chol        False\n",
       "fbs         False\n",
       "restecg     False\n",
       "thalach     False\n",
       "exang       False\n",
       "oldpeak     False\n",
       "slope       False\n",
       "ca          False\n",
       "thal        False\n",
       "target      False\n",
       "dtype: bool"
      ]
     },
     "execution_count": 45,
     "metadata": {},
     "output_type": "execute_result"
    }
   ],
   "source": [
    "df = df.dropna()\n",
    "df.isnull().any()\n",
    "#將空值去除"
   ]
  },
  {
   "cell_type": "code",
   "execution_count": 46,
   "metadata": {},
   "outputs": [
    {
     "data": {
      "text/plain": [
       "array([[ 0.96008384,  0.68190908,  1.97865831, ..., -2.26047188,\n",
       "        -0.71658705, -2.12994828],\n",
       "       [-1.90587175,  0.68190908,  1.00592864, ..., -2.26047188,\n",
       "        -0.71658705, -0.50051004],\n",
       "       [-1.46495551, -1.46647115,  0.03319897, ...,  0.9703489 ,\n",
       "        -0.71658705, -0.50051004],\n",
       "       ...,\n",
       "       [ 1.51122914,  0.68190908, -0.93953071, ..., -0.64506149,\n",
       "         1.23652928,  1.1289282 ],\n",
       "       [ 0.29870947,  0.68190908, -0.93953071, ..., -0.64506149,\n",
       "         0.25997112,  1.1289282 ],\n",
       "       [ 0.29870947, -1.46647115,  0.03319897, ..., -0.64506149,\n",
       "         0.25997112, -0.50051004]])"
      ]
     },
     "execution_count": 46,
     "metadata": {},
     "output_type": "execute_result"
    }
   ],
   "source": [
    "\n",
    "y_label = df.loc[:,['target']]\n",
    "\n",
    "Feature= df.loc[:,['age','sex','cp','trestbps',\n",
    "              'chol','fbs','restecg','thalach',\n",
    "              'exang','oldpeak','slope','ca','thal']]\n",
    "\n",
    "S = StandardScaler()\n",
    "\n",
    "S.fit(Feature)\n",
    "\n",
    "Features = S.transform(Feature)\n",
    "\n",
    "y_label = y_label.values.ravel()\n",
    "\n",
    "Features\n",
    "#資料前處理並對屬性做標準化"
   ]
  },
  {
   "cell_type": "code",
   "execution_count": 47,
   "metadata": {},
   "outputs": [],
   "source": [
    "X_train, X_test, y_train, y_test = train_test_split(Features, y_label, test_size=0.33, random_state=1)\n",
    "#切分訓練集和測試集"
   ]
  },
  {
   "cell_type": "code",
   "execution_count": 48,
   "metadata": {},
   "outputs": [
    {
     "name": "stdout",
     "output_type": "stream",
     "text": [
      "0.865979381443299\n"
     ]
    }
   ],
   "source": [
    "model = SVC(kernel = 'linear')\n",
    "model.fit(X_train,y_train)\n",
    "print(model.score(X_test,y_test))\n",
    "#套入SVM model並用test data得出預測分數"
   ]
  }
 ],
 "metadata": {
  "kernelspec": {
   "display_name": "Python 3",
   "language": "python",
   "name": "python3"
  },
  "language_info": {
   "codemirror_mode": {
    "name": "ipython",
    "version": 3
   },
   "file_extension": ".py",
   "mimetype": "text/x-python",
   "name": "python",
   "nbconvert_exporter": "python",
   "pygments_lexer": "ipython3",
   "version": "3.7.4"
  }
 },
 "nbformat": 4,
 "nbformat_minor": 2
}
